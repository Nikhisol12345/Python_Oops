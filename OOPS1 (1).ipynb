{
  "nbformat": 4,
  "nbformat_minor": 0,
  "metadata": {
    "colab": {
      "provenance": []
    },
    "kernelspec": {
      "name": "python3",
      "display_name": "Python 3"
    },
    "language_info": {
      "name": "python"
    }
  },
  "cells": [
    {
      "cell_type": "markdown",
      "source": [
        "****Encapsulation****"
      ],
      "metadata": {
        "id": "X-mc4AFPhTdy"
      }
    },
    {
      "cell_type": "markdown",
      "source": [
        "*** Creacting A ATM Machine Code From Scratch Using OOPs***"
      ],
      "metadata": {
        "id": "2xWqQeLeVctf"
      }
    },
    {
      "cell_type": "code",
      "execution_count": null,
      "metadata": {
        "id": "HGBk2i4Zsskv"
      },
      "outputs": [],
      "source": [
        "class MyAtm:\n",
        "  def __init__(self):\n",
        "    self.pin = ''\n",
        "    self.balance = 0\n",
        "    self.Menu()\n",
        "\n",
        "  def Menu(self):\n",
        "    user_input  = input(\n",
        "        \"\"\"welcome to indian back ATM\n",
        "        press 1 for genrate your pin\n",
        "        press 2 for check your balance\n",
        "        press 3 for change your pin\n",
        "        press 4 for cash cash withdrawal\n",
        "        AND press 5 for Exit\"\"\"\n",
        "    )\n",
        "    if user_input == '1':\n",
        "      self.pin_genrate()\n",
        "    elif user_input == '2':\n",
        "      self.check_balance()\n",
        "    elif user_input == '3':\n",
        "      self.pin_change()\n",
        "    elif user_input == '4':\n",
        "      self.cash_withdrawal()\n",
        "    else:\n",
        "      exit()    \n",
        "\n",
        "  def pin_genrate(self):\n",
        "    user_pin = input('please enter your pin')\n",
        "    self.pin = user_pin\n",
        "    user_balance = int(input('please enter your balance'))\n",
        "    self.balance = user_balance\n",
        "    print('pin is sucessfully genrated')  \n",
        "    self.Menu()\n",
        "\n",
        "  def check_balance(self):\n",
        "    enter_pin = input('please enter your pin')\n",
        "    if enter_pin == self.pin:\n",
        "      print('your current balance is ', self.balance)\n",
        "    else:\n",
        "      print('invalid pin try again')\n",
        "    self.Menu()\n",
        "\n",
        "  def pin_change(self):\n",
        "    current_pin  = input('please enter your current pin')\n",
        "    if current_pin == self.pin:\n",
        "      new_pin = input('please enter your new pin ')\n",
        "      self.pin = new_pin\n",
        "      print('pin changed sucessful ')\n",
        "    else:\n",
        "      print('invalid pin try again')\n",
        "\n",
        "    self.Menu()\n",
        "\n",
        "  def cash_withdrawal(self):\n",
        "    enter_pin =  input('please enter your pin ')\n",
        "    if enter_pin == self.pin:\n",
        "      amount = int(input('type amount'))\n",
        "      if amount <= self.balance:\n",
        "        self.balance = self.balance - amount\n",
        "        print('amount withdrawal sucessfully')\n",
        "        print('your balance is', self.balance)\n",
        "      else:\n",
        "        print('insufficient balance')\n",
        "    else:\n",
        "      print('invalid pin try again')\n",
        "    self.Menu()  \n",
        "    \n",
        "\n"
      ]
    },
    {
      "cell_type": "code",
      "source": [
        "a = MyAtm()"
      ],
      "metadata": {
        "colab": {
          "base_uri": "https://localhost:8080/"
        },
        "id": "frO44gmCtFJg",
        "outputId": "2c139c71-0755-4f66-c88c-b13b01fd9ceb"
      },
      "execution_count": null,
      "outputs": [
        {
          "name": "stdout",
          "output_type": "stream",
          "text": [
            "welcome to indian back ATM\n",
            "        press 1 for genrate your pin\n",
            "        press 2 for check your balance\n",
            "        press 3 for change your pin\n",
            "        press 4 for cash cash withdrawal\n",
            "        AND press 5 for Exit1\n",
            "please enter your pin54321\n",
            "please enter your balance10000\n",
            "pin is sucessfully genrated\n",
            "welcome to indian back ATM\n",
            "        press 1 for genrate your pin\n",
            "        press 2 for check your balance\n",
            "        press 3 for change your pin\n",
            "        press 4 for cash cash withdrawal\n",
            "        AND press 5 for Exit4\n",
            "please enter your pin 54321\n",
            "type amount7000\n",
            "amount withdrawal sucessfully\n",
            "your balance is 3000\n",
            "welcome to indian back ATM\n",
            "        press 1 for genrate your pin\n",
            "        press 2 for check your balance\n",
            "        press 3 for change your pin\n",
            "        press 4 for cash cash withdrawal\n",
            "        AND press 5 for Exit4\n",
            "please enter your pin 54321\n",
            "type amount4000\n",
            "insufficient balance\n",
            "welcome to indian back ATM\n",
            "        press 1 for genrate your pin\n",
            "        press 2 for check your balance\n",
            "        press 3 for change your pin\n",
            "        press 4 for cash cash withdrawal\n",
            "        AND press 5 for Exit4\n",
            "please enter your pin 54891\n",
            "invalid pin try again\n",
            "welcome to indian back ATM\n",
            "        press 1 for genrate your pin\n",
            "        press 2 for check your balance\n",
            "        press 3 for change your pin\n",
            "        press 4 for cash cash withdrawal\n",
            "        AND press 5 for Exit5\n"
          ]
        }
      ]
    },
    {
      "cell_type": "markdown",
      "source": [
        "*** Creacting A Fraction DataType From Scratch Using OOPs***\n"
      ],
      "metadata": {
        "id": "5HU7HudfU0cY"
      }
    },
    {
      "cell_type": "code",
      "source": [
        "class fraction:\n",
        "  def __init__(self,x,y):\n",
        "    self.nume = x\n",
        "    self.deno = y\n",
        "  def __str__(self):  \n",
        "    return '{}/{}'.format(self.nume,self.deno)\n",
        "  def __add__(self,other):\n",
        "    new_num = self.nume*other.deno + self.deno*other.nume\n",
        "    new_deno = self.deno*other.deno\n",
        "    return '{}/{}'.format(new_num,new_deno)\n",
        "\n",
        "  def __sub__(self,other):\n",
        "    new_num = self.nume*other.deno - self.deno*other.nume\n",
        "    new_deno = self.deno*other.deno\n",
        "    return '{}/{}'.format(new_num,new_deno)  \n",
        "\n",
        "  def __mul__(self,other):\n",
        "    new_num = self.nume*other.nume\n",
        "    new_deno = self.deno*other.deno\n",
        "    return '{}/{}'.format(new_num,new_deno)\n",
        "\n",
        "  def __truediv__(self,other):\n",
        "    new_num = self.nume*other.deno\n",
        "    new_deno = self.deno*other.nume\n",
        "    return '{}/{}'.format(new_num,new_deno)\n",
        "\n",
        "  def convert_to_decimal(self):\n",
        "    return self.nume/self.deno"
      ],
      "metadata": {
        "id": "nX7rKqYCtFGv"
      },
      "execution_count": null,
      "outputs": []
    },
    {
      "cell_type": "code",
      "source": [
        "fr = fraction(3,4)\n",
        "fr1 = fraction(1,2)\n",
        "print(fr+fr1)\n",
        "print(fr - fr1)\n",
        "print(fr*fr1)\n",
        "print(fr/fr1)\n",
        "fr.convert_to_decimal()"
      ],
      "metadata": {
        "id": "7L-AGqustFD2",
        "colab": {
          "base_uri": "https://localhost:8080/"
        },
        "outputId": "ec819877-b02e-4cec-99b2-dd858f8e9306"
      },
      "execution_count": null,
      "outputs": [
        {
          "output_type": "stream",
          "name": "stdout",
          "text": [
            "10/8\n",
            "2/8\n",
            "3/8\n",
            "6/4\n"
          ]
        },
        {
          "output_type": "execute_result",
          "data": {
            "text/plain": [
              "0.75"
            ]
          },
          "metadata": {},
          "execution_count": 31
        }
      ]
    },
    {
      "cell_type": "markdown",
      "source": [
        "**Write OOP classes to handle the following scenarios:**\n",
        "\n",
        "- A user can create and view 2D coordinates\n",
        "- A user can find out the distance between 2 coordinates\n",
        "- A user can find find the distance of a coordinate from origin\n",
        "- A user can check if a point lies on a given line\n",
        "- A user can find the distance between a given 2D point and a given line\n",
        "\n",
        "\n"
      ],
      "metadata": {
        "id": "YJJcgNFMPKBZ"
      }
    },
    {
      "cell_type": "code",
      "source": [
        "class Point:\n",
        "  def __init__(self,x,y):#A user can create and view 2D coordinates\n",
        "    self.x_cod = x\n",
        "    self.y_cod = y\n",
        "\n",
        "  def __str__(self):\n",
        "    return '<{},{}>'.format(self.x_cod,self.y_cod)  \n",
        "\n",
        "  def euclidean_distance(self,other):#A user can find out the distance between 2 coordinates\n",
        "    return ((self.x_cod - other.x_cod)**2 + (self.y_cod - other.y_cod)**2)**0.5\n",
        "\n",
        "  def distance_from_origin(self):#A user can find the distance of a coordinate from origin\n",
        "    return self.euclidean_distance(Point(0,0))\n",
        "\n",
        "class Line:\n",
        "  def __init__(self,A,B,C):\n",
        "    self.A = A\n",
        "    self.B = B\n",
        "    self.C = C\n",
        "\n",
        "  def __str__(self):\n",
        "    return '{}x + {}y + {} = 0'.format(self.A,self.B,self.C)\n",
        "\n",
        "  def Point_lies(line,Point): #A user can check if a point lies on a given line\n",
        "    if line.A*Point.x_cod + line.B*Point.y_cod + line.C == 0:\n",
        "      return \"yes point lies on line\"  \n",
        "    else:\n",
        "      return \"point is not lies on line\"\n",
        "\n",
        "  def shortest_distance(self,Point): #A user can find the distance between a given 2D point and a given line\n",
        "    return abs(self.A*Point.x_cod + self.B*Point.y_cod + self.C )/(self.A**2 + self.B**2)**0.5  "
      ],
      "metadata": {
        "id": "BHCrGRIqP0jW"
      },
      "execution_count": null,
      "outputs": []
    },
    {
      "cell_type": "code",
      "source": [
        "p1 = Point(0,0)\n",
        "print(p1)\n",
        "p2 = Point(1,2)\n",
        "p1.euclidean_distance(p2)\n",
        "p1.distance_from_origin()\n"
      ],
      "metadata": {
        "colab": {
          "base_uri": "https://localhost:8080/"
        },
        "id": "6eusBpf4SJnH",
        "outputId": "b15798dd-d531-4fd5-92cd-7cfe9b6e22d1"
      },
      "execution_count": null,
      "outputs": [
        {
          "output_type": "stream",
          "name": "stdout",
          "text": [
            "1x + 1y + -2 = 0\n",
            "<1,10>\n"
          ]
        },
        {
          "output_type": "execute_result",
          "data": {
            "text/plain": [
              "6.363961030678928"
            ]
          },
          "metadata": {},
          "execution_count": 27
        }
      ]
    },
    {
      "cell_type": "code",
      "source": [
        "l1 = Line(1,2,0)\n",
        "print(l1)\n",
        "l1.Point_lies(p1)\n",
        "l1.shortest_distance(p1)"
      ],
      "metadata": {
        "colab": {
          "base_uri": "https://localhost:8080/"
        },
        "id": "d5oHtlxRSY1X",
        "outputId": "8d04f084-ee88-4e76-cb6e-c5aa049bb595"
      },
      "execution_count": null,
      "outputs": [
        {
          "output_type": "stream",
          "name": "stdout",
          "text": [
            "1x + 2y + 0 = 0\n"
          ]
        },
        {
          "output_type": "execute_result",
          "data": {
            "text/plain": [
              "0.0"
            ]
          },
          "metadata": {},
          "execution_count": 26
        }
      ]
    },
    {
      "cell_type": "code",
      "source": [
        "l1 = Line(1,1,-2)\n",
        "p1 = Point(1,10)\n",
        "print(l1)\n",
        "print(p1)\n",
        "\n",
        "l1.shortest_distance(p1)"
      ],
      "metadata": {
        "colab": {
          "base_uri": "https://localhost:8080/"
        },
        "id": "6cH6xXntaeqj",
        "outputId": "13458085-42ff-437b-c40c-da1542bfda75"
      },
      "execution_count": null,
      "outputs": [
        {
          "output_type": "stream",
          "name": "stdout",
          "text": [
            "1x + 1y + -2 = 0\n",
            "<1,10>\n"
          ]
        },
        {
          "output_type": "execute_result",
          "data": {
            "text/plain": [
              "6.363961030678928"
            ]
          },
          "metadata": {},
          "execution_count": 28
        }
      ]
    }
  ]
}